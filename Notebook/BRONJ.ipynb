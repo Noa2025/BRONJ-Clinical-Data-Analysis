{
 "cells": [
  {
   "cell_type": "code",
   "execution_count": 1,
   "id": "b9bf1ed0-6bb2-471d-b35f-53a48b6bc999",
   "metadata": {},
   "outputs": [],
   "source": [
    "import pandas as pd\n",
    "import sqlite3"
   ]
  },
  {
   "cell_type": "code",
   "execution_count": 98,
   "id": "ae079910-585d-4a2b-a50f-67cb9a227f56",
   "metadata": {},
   "outputs": [
    {
     "name": "stdout",
     "output_type": "stream",
     "text": [
      "Database 'ONJ.db' created with table 'ONJ'\n",
      "Number of rows: 46\n"
     ]
    },
    {
     "data": {
      "text/html": [
       "<div>\n",
       "<style scoped>\n",
       "    .dataframe tbody tr th:only-of-type {\n",
       "        vertical-align: middle;\n",
       "    }\n",
       "\n",
       "    .dataframe tbody tr th {\n",
       "        vertical-align: top;\n",
       "    }\n",
       "\n",
       "    .dataframe thead th {\n",
       "        text-align: right;\n",
       "    }\n",
       "</style>\n",
       "<table border=\"1\" class=\"dataframe\">\n",
       "  <thead>\n",
       "    <tr style=\"text-align: right;\">\n",
       "      <th></th>\n",
       "      <th>Sample_ID</th>\n",
       "      <th>age</th>\n",
       "      <th>gender</th>\n",
       "      <th>race</th>\n",
       "      <th>ethnic</th>\n",
       "      <th>cancer_type</th>\n",
       "      <th>ONJ</th>\n",
       "    </tr>\n",
       "  </thead>\n",
       "  <tbody>\n",
       "    <tr>\n",
       "      <th>0</th>\n",
       "      <td>ONJ1</td>\n",
       "      <td>33</td>\n",
       "      <td>male</td>\n",
       "      <td>white</td>\n",
       "      <td>non hispanic</td>\n",
       "      <td>myeloma</td>\n",
       "      <td>Yes</td>\n",
       "    </tr>\n",
       "    <tr>\n",
       "      <th>1</th>\n",
       "      <td>ONJ2</td>\n",
       "      <td>51</td>\n",
       "      <td>female</td>\n",
       "      <td>white</td>\n",
       "      <td>non hispanic</td>\n",
       "      <td>breast</td>\n",
       "      <td>Yes</td>\n",
       "    </tr>\n",
       "    <tr>\n",
       "      <th>2</th>\n",
       "      <td>ONJ3</td>\n",
       "      <td>52</td>\n",
       "      <td>female</td>\n",
       "      <td>white</td>\n",
       "      <td>non hispanic</td>\n",
       "      <td>breast</td>\n",
       "      <td>Yes</td>\n",
       "    </tr>\n",
       "    <tr>\n",
       "      <th>3</th>\n",
       "      <td>ONJ4</td>\n",
       "      <td>55</td>\n",
       "      <td>female</td>\n",
       "      <td>white</td>\n",
       "      <td>non hispanic</td>\n",
       "      <td>breast</td>\n",
       "      <td>Yes</td>\n",
       "    </tr>\n",
       "    <tr>\n",
       "      <th>4</th>\n",
       "      <td>ONJ5</td>\n",
       "      <td>55</td>\n",
       "      <td>female</td>\n",
       "      <td>white</td>\n",
       "      <td>non hispanic</td>\n",
       "      <td>breast</td>\n",
       "      <td>Yes</td>\n",
       "    </tr>\n",
       "  </tbody>\n",
       "</table>\n",
       "</div>"
      ],
      "text/plain": [
       "  Sample_ID  age  gender   race        ethnic cancer_type  ONJ\n",
       "0      ONJ1   33    male  white  non hispanic     myeloma  Yes\n",
       "1      ONJ2   51  female  white  non hispanic      breast  Yes\n",
       "2      ONJ3   52  female  white  non hispanic      breast  Yes\n",
       "3      ONJ4   55  female  white  non hispanic      breast  Yes\n",
       "4      ONJ5   55  female  white  non hispanic      breast  Yes"
      ]
     },
     "metadata": {},
     "output_type": "display_data"
    }
   ],
   "source": [
    "excel_file = \"ONJ_samples.xlsx\"\n",
    "db_file = \"ONJ.db\"\n",
    "\n",
    "# Load Excel files (df is the main dataset, and Medications and Genetics will be joined later\n",
    "df = pd.read_excel(excel_file, sheet_name='Demographics')\n",
    "medi = pd.read_excel(excel_file, sheet_name='Medications')\n",
    "gene = pd.read_excel(excel_file, sheet_name='Genetics')\n",
    "\n",
    "# Clean column names to be SQL-friendly\n",
    "df.columns = [c.strip().replace(' ', '_').replace('-', '_') for c in df.columns]\n",
    "medi.columns = [c.strip().replace(' ', '_').replace('-', '_') for c in medi.columns]\n",
    "gene.columns = [c.strip().replace(' ', '_').replace('-', '_') for c in gene.columns]\n",
    "\n",
    "# Create SQLite DB \n",
    "conn = sqlite3.connect(db_file)\n",
    "df.to_sql(\"ONJ\", conn, if_exists=\"replace\", index=False)\n",
    "medi.to_sql(\"medi\", conn, if_exists=\"replace\", index=False)\n",
    "gene.to_sql(\"gene\", conn, if_exists=\"replace\", index=False)\n",
    "\n",
    "conn.close()\n",
    "print(f\"Database '{db_file}' created with table 'ONJ'\")\n",
    "\n",
    "# Helper function to connect\n",
    "def connect_db(db_file=db_file):\n",
    "    \"\"\"Connect to the SQLite DB and return connection.\"\"\"\n",
    "    return sqlite3.connect(db_file)\n",
    "\n",
    "# Helper function to run queries\n",
    "def run_query(query, db_file=db_file):\n",
    "    \"\"\"Run a SQL query and return a pandas DataFrame.\"\"\"\n",
    "    conn = connect_db(db_file)\n",
    "    result = pd.read_sql_query(query, conn)\n",
    "    conn.close()\n",
    "    return result\n",
    "\n",
    "# Test queries\n",
    "row_count = run_query(\"SELECT COUNT(*) AS n_rows FROM ONJ;\")\n",
    "print(\"Number of rows:\", row_count['n_rows'][0])\n",
    "\n",
    "preview = run_query(\"SELECT * FROM ONJ LIMIT 5;\")\n",
    "display(preview)"
   ]
  },
  {
   "cell_type": "code",
   "execution_count": 103,
   "id": "d45412fa-2a91-4363-9d4e-cf63af84a276",
   "metadata": {},
   "outputs": [],
   "source": [
    "with connect_db() as conn:\n",
    "    conn.execute(\"\"\"\n",
    "        CREATE TABLE IF NOT EXISTS ONJ_j AS\n",
    "SELECT \n",
    "    ONJ.Sample_ID,\n",
    "    ONJ.age,\n",
    "    ONJ.gender,\n",
    "    ONJ.race,\n",
    "    ONJ.ethnic,\n",
    "    ONJ.cancer_type,\n",
    "    ONJ.ONJ,\n",
    "    medi.Summary_of_BP,\n",
    "    medi.Route,\n",
    "    medi.Months,\n",
    "    gene.SNP1,\n",
    "    gene.SNP2\n",
    "FROM ONJ\n",
    "JOIN medi ON ONJ.Sample_ID = medi.Sample_ID\n",
    "JOIN gene ON ONJ.Sample_ID = gene.Sample_ID;\n",
    "\"\"\")\n"
   ]
  },
  {
   "cell_type": "code",
   "execution_count": 104,
   "id": "0870a6f0-19e0-4dbe-80f3-274b91b4ad14",
   "metadata": {},
   "outputs": [
    {
     "data": {
      "text/html": [
       "<div>\n",
       "<style scoped>\n",
       "    .dataframe tbody tr th:only-of-type {\n",
       "        vertical-align: middle;\n",
       "    }\n",
       "\n",
       "    .dataframe tbody tr th {\n",
       "        vertical-align: top;\n",
       "    }\n",
       "\n",
       "    .dataframe thead th {\n",
       "        text-align: right;\n",
       "    }\n",
       "</style>\n",
       "<table border=\"1\" class=\"dataframe\">\n",
       "  <thead>\n",
       "    <tr style=\"text-align: right;\">\n",
       "      <th></th>\n",
       "      <th>cid</th>\n",
       "      <th>name</th>\n",
       "      <th>type</th>\n",
       "      <th>notnull</th>\n",
       "      <th>dflt_value</th>\n",
       "      <th>pk</th>\n",
       "    </tr>\n",
       "  </thead>\n",
       "  <tbody>\n",
       "    <tr>\n",
       "      <th>0</th>\n",
       "      <td>0</td>\n",
       "      <td>Sample_ID</td>\n",
       "      <td>TEXT</td>\n",
       "      <td>0</td>\n",
       "      <td>None</td>\n",
       "      <td>0</td>\n",
       "    </tr>\n",
       "    <tr>\n",
       "      <th>1</th>\n",
       "      <td>1</td>\n",
       "      <td>age</td>\n",
       "      <td>INT</td>\n",
       "      <td>0</td>\n",
       "      <td>None</td>\n",
       "      <td>0</td>\n",
       "    </tr>\n",
       "    <tr>\n",
       "      <th>2</th>\n",
       "      <td>2</td>\n",
       "      <td>gender</td>\n",
       "      <td>TEXT</td>\n",
       "      <td>0</td>\n",
       "      <td>None</td>\n",
       "      <td>0</td>\n",
       "    </tr>\n",
       "    <tr>\n",
       "      <th>3</th>\n",
       "      <td>3</td>\n",
       "      <td>race</td>\n",
       "      <td>TEXT</td>\n",
       "      <td>0</td>\n",
       "      <td>None</td>\n",
       "      <td>0</td>\n",
       "    </tr>\n",
       "    <tr>\n",
       "      <th>4</th>\n",
       "      <td>4</td>\n",
       "      <td>ethnic</td>\n",
       "      <td>TEXT</td>\n",
       "      <td>0</td>\n",
       "      <td>None</td>\n",
       "      <td>0</td>\n",
       "    </tr>\n",
       "    <tr>\n",
       "      <th>5</th>\n",
       "      <td>5</td>\n",
       "      <td>cancer_type</td>\n",
       "      <td>TEXT</td>\n",
       "      <td>0</td>\n",
       "      <td>None</td>\n",
       "      <td>0</td>\n",
       "    </tr>\n",
       "    <tr>\n",
       "      <th>6</th>\n",
       "      <td>6</td>\n",
       "      <td>ONJ</td>\n",
       "      <td>TEXT</td>\n",
       "      <td>0</td>\n",
       "      <td>None</td>\n",
       "      <td>0</td>\n",
       "    </tr>\n",
       "    <tr>\n",
       "      <th>7</th>\n",
       "      <td>7</td>\n",
       "      <td>Summary_of_BP</td>\n",
       "      <td>TEXT</td>\n",
       "      <td>0</td>\n",
       "      <td>None</td>\n",
       "      <td>0</td>\n",
       "    </tr>\n",
       "    <tr>\n",
       "      <th>8</th>\n",
       "      <td>8</td>\n",
       "      <td>Route</td>\n",
       "      <td>TEXT</td>\n",
       "      <td>0</td>\n",
       "      <td>None</td>\n",
       "      <td>0</td>\n",
       "    </tr>\n",
       "    <tr>\n",
       "      <th>9</th>\n",
       "      <td>9</td>\n",
       "      <td>Months</td>\n",
       "      <td>INT</td>\n",
       "      <td>0</td>\n",
       "      <td>None</td>\n",
       "      <td>0</td>\n",
       "    </tr>\n",
       "    <tr>\n",
       "      <th>10</th>\n",
       "      <td>10</td>\n",
       "      <td>SNP1</td>\n",
       "      <td>TEXT</td>\n",
       "      <td>0</td>\n",
       "      <td>None</td>\n",
       "      <td>0</td>\n",
       "    </tr>\n",
       "    <tr>\n",
       "      <th>11</th>\n",
       "      <td>11</td>\n",
       "      <td>SNP2</td>\n",
       "      <td>TEXT</td>\n",
       "      <td>0</td>\n",
       "      <td>None</td>\n",
       "      <td>0</td>\n",
       "    </tr>\n",
       "  </tbody>\n",
       "</table>\n",
       "</div>"
      ],
      "text/plain": [
       "    cid           name  type  notnull dflt_value  pk\n",
       "0     0      Sample_ID  TEXT        0       None   0\n",
       "1     1            age   INT        0       None   0\n",
       "2     2         gender  TEXT        0       None   0\n",
       "3     3           race  TEXT        0       None   0\n",
       "4     4         ethnic  TEXT        0       None   0\n",
       "5     5    cancer_type  TEXT        0       None   0\n",
       "6     6            ONJ  TEXT        0       None   0\n",
       "7     7  Summary_of_BP  TEXT        0       None   0\n",
       "8     8          Route  TEXT        0       None   0\n",
       "9     9         Months   INT        0       None   0\n",
       "10   10           SNP1  TEXT        0       None   0\n",
       "11   11           SNP2  TEXT        0       None   0"
      ]
     },
     "execution_count": 104,
     "metadata": {},
     "output_type": "execute_result"
    }
   ],
   "source": [
    "run_query(\"\"\"\n",
    "PRAGMA table_info(ONJ_j);\n",
    "\"\"\")"
   ]
  },
  {
   "cell_type": "code",
   "execution_count": null,
   "id": "59c4e32a-85d7-411b-a18b-4e8eefb18302",
   "metadata": {},
   "outputs": [],
   "source": [
    "# Find the number of patients participating in the study"
   ]
  },
  {
   "cell_type": "code",
   "execution_count": 110,
   "id": "0d6be7da-40a3-4cb0-b897-9e7b2920c610",
   "metadata": {},
   "outputs": [
    {
     "name": "stdout",
     "output_type": "stream",
     "text": [
      "Number of patients participating in the study:\n",
      "    COUNT(Sample_ID)  ONJ\n",
      "0                23   No\n",
      "1                23  Yes\n"
     ]
    }
   ],
   "source": [
    "df = run_query(\"\"\"\n",
    "SELECT COUNT(Sample_ID),ONJ \n",
    "FROM ONJ_j\n",
    "GROUP BY ONJ;\n",
    "\"\"\")\n",
    "print(\"Number of patients participating in the study:\\n\",df)"
   ]
  },
  {
   "cell_type": "code",
   "execution_count": null,
   "id": "57aed0c1-bdb4-4746-9fc3-cf0669b97a41",
   "metadata": {},
   "outputs": [],
   "source": [
    "# Find the distribution of cancer types"
   ]
  },
  {
   "cell_type": "code",
   "execution_count": 108,
   "id": "7222de78-5627-4e8d-8b78-1ab04ed37b5f",
   "metadata": {},
   "outputs": [
    {
     "name": "stdout",
     "output_type": "stream",
     "text": [
      "The distribution of cancer types:\n",
      "   cancer_type  COUNT(Sample_ID)  ONJ\n",
      "0      breast                 1   No\n",
      "1      breast                 7  Yes\n",
      "2        lung                 8   No\n",
      "3        lung                 3  Yes\n",
      "4     myeloma                 9   No\n",
      "5     myeloma                 9  Yes\n",
      "6    prostate                 5   No\n",
      "7    prostate                 4  Yes\n"
     ]
    }
   ],
   "source": [
    "df = run_query(\"\"\"\n",
    "SELECT cancer_type, COUNT(Sample_ID),ONJ \n",
    "FROM ONJ_j\n",
    "GROUP BY cancer_type,ONJ\n",
    "ORDER BY cancer_type,ONJ\n",
    "\"\"\")\n",
    "print(\"The distribution of cancer types:\\n\",df)"
   ]
  },
  {
   "cell_type": "code",
   "execution_count": null,
   "id": "7bb75fc9-8a14-4bad-8622-ba53f4498c31",
   "metadata": {},
   "outputs": [],
   "source": [
    "# Find the distribution of medications"
   ]
  },
  {
   "cell_type": "code",
   "execution_count": 111,
   "id": "bdabad39-91bf-4176-bebd-7d224cb7f710",
   "metadata": {},
   "outputs": [
    {
     "name": "stdout",
     "output_type": "stream",
     "text": [
      "The distribution of cancer types:\n",
      "           drug  COUNT(Sample_ID)  ONJ\n",
      "0  Pamidronate                 7   No\n",
      "1  Zoledronate                16   No\n",
      "2  Alendronate                12  Yes\n",
      "3  Pamidronate                 3  Yes\n",
      "4  Zoledronate                 8  Yes\n"
     ]
    }
   ],
   "source": [
    "df1 = run_query(\"\"\"\n",
    "SELECT Summary_of_BP AS drug, COUNT(Sample_ID),ONJ \n",
    "FROM ONJ_j\n",
    "GROUP BY ONJ, Summary_of_BP\n",
    "ORDER BY ONJ, Summary_of_BP;\n",
    "\"\"\")\n",
    "print(\"The distribution of cancer types:\\n\",df1)"
   ]
  },
  {
   "cell_type": "code",
   "execution_count": null,
   "id": "9c1f4337-6854-4224-b5dc-0c502740fa49",
   "metadata": {},
   "outputs": [],
   "source": [
    "# Find gender distribution"
   ]
  },
  {
   "cell_type": "code",
   "execution_count": 112,
   "id": "ce2a9084-5b38-40b3-a89d-da6897f14165",
   "metadata": {},
   "outputs": [
    {
     "name": "stdout",
     "output_type": "stream",
     "text": [
      "Gender distribution:\n",
      "    gender  COUNT(gender)  ONJ\n",
      "0  female             11   No\n",
      "1  female             11  Yes\n",
      "2    male             12   No\n",
      "3    male             12  Yes\n"
     ]
    }
   ],
   "source": [
    "df1 = run_query(\"\"\"\n",
    "SELECT gender, COUNT(gender),ONJ \n",
    "FROM ONJ_j\n",
    "GROUP BY gender,ONJ;\n",
    "\"\"\")\n",
    "print(\"Gender distribution:\\n\",df1)"
   ]
  },
  {
   "cell_type": "code",
   "execution_count": null,
   "id": "3e733e37-346e-4f4f-9551-25e5e164dd70",
   "metadata": {},
   "outputs": [],
   "source": [
    "# Find the mean age "
   ]
  },
  {
   "cell_type": "code",
   "execution_count": 114,
   "id": "bf0c8fb9-4234-4f97-a27f-811471ea0bcd",
   "metadata": {},
   "outputs": [
    {
     "name": "stdout",
     "output_type": "stream",
     "text": [
      "The mean age is:\n",
      "    ONJ  Mean\n",
      "0   No  61.6\n",
      "1  Yes  63.6\n"
     ]
    }
   ],
   "source": [
    "df1 = run_query(\"\"\"\n",
    "SELECT ONJ, ROUND(\n",
    "AVG(age),1) AS Mean \n",
    "FROM ONJ_j\n",
    "GROUP BY ONJ;\n",
    "\"\"\")\n",
    "print(\"The mean age is:\\n\",df1)"
   ]
  },
  {
   "cell_type": "code",
   "execution_count": null,
   "id": "64fc85e3-239b-4edb-bbd4-c2fdc6a870ea",
   "metadata": {},
   "outputs": [],
   "source": [
    "# Find the mean duration of bisphosphonate usage "
   ]
  },
  {
   "cell_type": "code",
   "execution_count": 115,
   "id": "da7c263b-3c08-4f62-8ca3-781bfdb2d7f8",
   "metadata": {},
   "outputs": [
    {
     "name": "stdout",
     "output_type": "stream",
     "text": [
      "Mean duration of bisphosphonate usage:\n",
      "    ONJ  Mean\n",
      "0   No  50.9\n",
      "1  Yes  32.2\n"
     ]
    }
   ],
   "source": [
    "df1 = run_query(\"\"\"\n",
    "SELECT ONJ, ROUND(\n",
    "AVG(Months),1) AS Mean\n",
    "FROM ONJ_j\n",
    "GROUP BY ONJ;\n",
    "\"\"\")\n",
    "print(\"Mean duration of bisphosphonate usage:\\n\",df1)"
   ]
  },
  {
   "cell_type": "code",
   "execution_count": null,
   "id": "e5ccc0d6-c4f6-42c6-bdd9-c4c3c2a9b1e4",
   "metadata": {},
   "outputs": [],
   "source": [
    "# Find the mean duration of bisphosphonate usage by bisphosphonate type"
   ]
  },
  {
   "cell_type": "code",
   "execution_count": 119,
   "id": "86f7d256-0817-4310-b627-275ea4b0fe2c",
   "metadata": {},
   "outputs": [
    {
     "name": "stdout",
     "output_type": "stream",
     "text": [
      "Mean duration of bisphosphonate usage per drug:\n",
      "   Bisphosphonate_type  ONJ  Mean\n",
      "0         Pamidronate   No  67.6\n",
      "1         Zoledronate   No  43.6\n",
      "2         Alendronate  Yes  39.3\n",
      "3         Pamidronate  Yes  15.0\n",
      "4         Zoledronate  Yes  27.9\n"
     ]
    }
   ],
   "source": [
    "df1 = run_query(\"\"\"\n",
    "SELECT Summary_of_BP AS Bisphosphonate_type, ONJ, \n",
    "ROUND(\n",
    "AVG(Months),1) AS Mean\n",
    "FROM ONJ_j\n",
    "GROUP BY ONJ, Summary_of_BP\n",
    "ORDER BY ONJ, Summary_of_BP ;\n",
    "\"\"\")\n",
    "print(\"Mean duration of bisphosphonate usage per drug:\\n\",df1)"
   ]
  },
  {
   "cell_type": "code",
   "execution_count": null,
   "id": "cc4a7faa-313b-4610-9861-b3e59ad266cd",
   "metadata": {},
   "outputs": [],
   "source": [
    "# Find the mean duration of bisphosphonate usage by cancer type"
   ]
  },
  {
   "cell_type": "code",
   "execution_count": 121,
   "id": "33181f1c-1690-4c71-b076-05c12d4e8926",
   "metadata": {},
   "outputs": [
    {
     "name": "stdout",
     "output_type": "stream",
     "text": [
      "Mean duration of bisphosphonate usage per cancer type:\n",
      "   cancer_type  ONJ  Mean\n",
      "0      breast   No  27.0\n",
      "1        lung   No  51.1\n",
      "2     myeloma   No  55.3\n",
      "3    prostate   No  47.2\n",
      "4      breast  Yes  41.3\n",
      "5        lung  Yes  18.7\n",
      "6     myeloma  Yes  36.2\n",
      "7    prostate  Yes  17.3\n"
     ]
    }
   ],
   "source": [
    "df1 = run_query(\"\"\"\n",
    "SELECT cancer_type, ONJ, \n",
    "ROUND(\n",
    "AVG(Months),1) AS Mean\n",
    "FROM ONJ_j\n",
    "GROUP BY ONJ, cancer_type\n",
    "ORDER BY ONJ, cancer_type ;\n",
    "\"\"\")\n",
    "print(\"Mean duration of bisphosphonate usage per cancer type:\\n\",df1)"
   ]
  },
  {
   "cell_type": "code",
   "execution_count": null,
   "id": "8c134234-5bd1-4fe1-af9b-ecf50fc0f99f",
   "metadata": {},
   "outputs": [],
   "source": [
    "# Find distribution of SNP1 and 2 among patient/controls"
   ]
  },
  {
   "cell_type": "code",
   "execution_count": 123,
   "id": "7db6f922-6519-46c0-84fb-255a557a5bd3",
   "metadata": {},
   "outputs": [
    {
     "name": "stdout",
     "output_type": "stream",
     "text": [
      "distribution of SNP1 among patient/controls:\n",
      "   SNP1  COUNT(SNP1)  ONJ\n",
      "0   No           20   No\n",
      "1  Yes            3   No\n",
      "2   No           13  Yes\n",
      "3  Yes           10  Yes\n"
     ]
    }
   ],
   "source": [
    "df1 = run_query(\"\"\"\n",
    "SELECT SNP1, COUNT(SNP1), ONJ\n",
    "FROM ONJ_j\n",
    "GROUP BY ONJ, SNP1\n",
    "ORDER BY ONJ, SNP1 ;\n",
    "\"\"\")\n",
    "print(\"distribution of SNP1 among patient/controls:\\n\",df1)"
   ]
  },
  {
   "cell_type": "code",
   "execution_count": 132,
   "id": "98938eee-ebea-45e4-a27a-af2f6a3f52e0",
   "metadata": {},
   "outputs": [
    {
     "name": "stdout",
     "output_type": "stream",
     "text": [
      "distribution of SNP2 among patient/controls:\n",
      "   SNP2  COUNT(SNP2)  ONJ\n",
      "0   No           22   No\n",
      "1  Yes            1   No\n",
      "2   No           19  Yes\n",
      "3  Yes            4  Yes\n"
     ]
    }
   ],
   "source": [
    "df1 = run_query(\"\"\"\n",
    "SELECT SNP2, COUNT(SNP2), ONJ\n",
    "FROM ONJ_j\n",
    "GROUP BY ONJ, SNP2\n",
    "ORDER BY ONJ, SNP2 ;\n",
    "\"\"\")\n",
    "print(\"distribution of SNP2 among patient/controls:\\n\",df1)"
   ]
  },
  {
   "cell_type": "code",
   "execution_count": null,
   "id": "26cdcfd6-103d-47fc-b6fd-64e142d1b6a6",
   "metadata": {},
   "outputs": [],
   "source": [
    "# Calculate OR of SNP1, by using the Common Table Expression counts:"
   ]
  },
  {
   "cell_type": "code",
   "execution_count": 130,
   "id": "123832a6-bce2-4f81-b483-01cd91008ec4",
   "metadata": {},
   "outputs": [
    {
     "name": "stdout",
     "output_type": "stream",
     "text": [
      "Odd Ratio of SNP1 is:\n",
      "     a  b   c   d  Odd_Ratio\n",
      "0  10  3  13  20       5.13\n"
     ]
    }
   ],
   "source": [
    "df1 = run_query(\"\"\"\n",
    "WITH counts AS (\n",
    "    SELECT\n",
    "        SUM(CASE WHEN SNP1 = 'Yes' AND ONJ = 'Yes' THEN 1 ELSE 0 END) AS a,\n",
    "        SUM(CASE WHEN SNP1 = 'Yes' AND ONJ = 'No'  THEN 1 ELSE 0 END) AS b,\n",
    "        SUM(CASE WHEN SNP1 = 'No'  AND ONJ = 'Yes' THEN 1 ELSE 0 END) AS c,\n",
    "        SUM(CASE WHEN SNP1 = 'No'  AND ONJ = 'No'  THEN 1 ELSE 0 END) AS d\n",
    "    FROM ONJ_joined\n",
    ")\n",
    "SELECT \n",
    "    a, b, c, d,\n",
    "    ROUND((a * d * 1.0) / (b * c), 2) AS Odd_Ratio\n",
    "FROM counts;\n",
    "\"\"\")\n",
    "print(\"Odd Ratio of SNP1 is:\\n\",df1)"
   ]
  },
  {
   "cell_type": "code",
   "execution_count": null,
   "id": "690628e2-8083-4ba7-ae5c-2979c79a95ed",
   "metadata": {},
   "outputs": [],
   "source": [
    "# Calculate OR of SNP2, by using the Common Table Expression counts:"
   ]
  },
  {
   "cell_type": "code",
   "execution_count": 133,
   "id": "fe0c0472-0776-4077-9ed6-bb16e84271b2",
   "metadata": {},
   "outputs": [
    {
     "name": "stdout",
     "output_type": "stream",
     "text": [
      "Odd Ratio of SNP2 is:\n",
      "    a  b   c   d  Odd_Ratio\n",
      "0  4  1  19  22       4.63\n"
     ]
    }
   ],
   "source": [
    "df1 = run_query(\"\"\"\n",
    "WITH counts AS (\n",
    "    SELECT\n",
    "        SUM(CASE WHEN SNP2 = 'Yes' AND ONJ = 'Yes' THEN 1 ELSE 0 END) AS a,\n",
    "        SUM(CASE WHEN SNP2 = 'Yes' AND ONJ = 'No'  THEN 1 ELSE 0 END) AS b,\n",
    "        SUM(CASE WHEN SNP2 = 'No'  AND ONJ = 'Yes' THEN 1 ELSE 0 END) AS c,\n",
    "        SUM(CASE WHEN SNP2 = 'No'  AND ONJ = 'No'  THEN 1 ELSE 0 END) AS d\n",
    "    FROM ONJ_joined\n",
    ")\n",
    "SELECT \n",
    "    a, b, c, d,\n",
    "    ROUND((a * d * 1.0) / (b * c), 2) AS Odd_Ratio\n",
    "FROM counts;\n",
    "\"\"\")\n",
    "print(\"Odd Ratio of SNP2 is:\\n\",df1)"
   ]
  },
  {
   "cell_type": "code",
   "execution_count": null,
   "id": "6ec74eb4-6dc6-4212-b1ce-8c0e05c5eb86",
   "metadata": {},
   "outputs": [],
   "source": [
    "# switching to python for analysis and visualization"
   ]
  },
  {
   "cell_type": "code",
   "execution_count": 137,
   "id": "e98badd9-8587-4bfb-8acc-18a78b9505c9",
   "metadata": {},
   "outputs": [
    {
     "name": "stdout",
     "output_type": "stream",
     "text": [
      "  Sample_ID  age  gender   race        ethnic cancer_type  ONJ Summary_of_BP  \\\n",
      "0      ONJ1   33    male  white  non hispanic     myeloma  Yes   Alendronate   \n",
      "1      ONJ2   51  female  white  non hispanic      breast  Yes   Alendronate   \n",
      "2      ONJ3   52  female  white  non hispanic      breast  Yes   Alendronate   \n",
      "3      ONJ4   55  female  white  non hispanic      breast  Yes   Alendronate   \n",
      "4      ONJ5   55  female  white  non hispanic      breast  Yes   Alendronate   \n",
      "\n",
      "  Route  Months SNP1 SNP2  \n",
      "0  Oral      87  Yes   No  \n",
      "1  Oral      46  Yes   No  \n",
      "2  Oral      13  Yes   No  \n",
      "3  Oral      30   No  Yes  \n",
      "4  Oral      55   No   No  \n"
     ]
    }
   ],
   "source": [
    "# Load ONJ_j table into a pandas DataFrame\n",
    "df_onj = run_query(\"SELECT * FROM ONJ_j;\")\n",
    "\n",
    "# Preview the first rows\n",
    "print(df_onj.head())\n"
   ]
  },
  {
   "cell_type": "code",
   "execution_count": null,
   "id": "cef62fb4-edc5-42f7-8a7d-b1829845862f",
   "metadata": {},
   "outputs": [],
   "source": [
    "# cancer type vs ONJ "
   ]
  },
  {
   "cell_type": "code",
   "execution_count": 185,
   "id": "f1bdb26d-adad-42ca-a060-9d59c76de7ae",
   "metadata": {},
   "outputs": [
    {
     "name": "stdout",
     "output_type": "stream",
     "text": [
      "cancer_type  breast  lung  myeloma  prostate\n",
      "ONJ                                         \n",
      "No                1     8        9         5\n",
      "Yes               7     3        9         4\n"
     ]
    }
   ],
   "source": [
    "# Cross tabulation between ONJ and SNP1\n",
    "CrosstabResult = pd.crosstab(index=df_onj['ONJ'],columns=df_onj['cancer_type'])\n",
    "print(CrosstabResult)"
   ]
  },
  {
   "cell_type": "code",
   "execution_count": 186,
   "id": "3ed3790d-df9e-4547-bb93-1b5ca528b7ba",
   "metadata": {},
   "outputs": [
    {
     "name": "stdout",
     "output_type": "stream",
     "text": [
      "The P-Value of the ChiSq Test is: 0.076\n"
     ]
    }
   ],
   "source": [
    "from scipy.stats import chi2_contingency\n",
    "\n",
    "# Performing Chi-square test\n",
    "ChiSqResult = chi2_contingency(CrosstabResult)\n",
    "print('The P-Value of the ChiSq Test is:', round(ChiSqResult[1],3))"
   ]
  },
  {
   "cell_type": "code",
   "execution_count": null,
   "id": "dec69b92-dfe3-414e-bea9-586b502fb293",
   "metadata": {},
   "outputs": [],
   "source": [
    "# SNP1 vs ONJ "
   ]
  },
  {
   "cell_type": "code",
   "execution_count": 178,
   "id": "12a00210-4ebc-48b5-a5e1-b72d8d5555c6",
   "metadata": {},
   "outputs": [
    {
     "name": "stdout",
     "output_type": "stream",
     "text": [
      "SNP1  No  Yes\n",
      "ONJ          \n",
      "No    20    3\n",
      "Yes   13   10\n"
     ]
    }
   ],
   "source": [
    "# Cross tabulation between ONJ and SNP1\n",
    "CrosstabResult = pd.crosstab(index=df_onj['ONJ'],columns=df_onj['SNP1'])\n",
    "print(CrosstabResult)"
   ]
  },
  {
   "cell_type": "code",
   "execution_count": 180,
   "id": "dd7fd5d3-a984-4790-b42b-7e1125886140",
   "metadata": {},
   "outputs": [
    {
     "name": "stdout",
     "output_type": "stream",
     "text": [
      "The P-Value of the ChiSq Test is: 0.049\n"
     ]
    }
   ],
   "source": [
    "# Performing Chi-square test\n",
    "ChiSqResult = chi2_contingency(CrosstabResult)\n",
    "print('The P-Value of the ChiSq Test is:', round(ChiSqResult[1],3))"
   ]
  },
  {
   "cell_type": "code",
   "execution_count": null,
   "id": "13657d69-13b5-41b2-a184-98f4af8ab85d",
   "metadata": {},
   "outputs": [],
   "source": [
    "# SNP2 vs ONJ "
   ]
  },
  {
   "cell_type": "code",
   "execution_count": 181,
   "id": "b5ed681b-1782-4189-a50b-14492603efda",
   "metadata": {},
   "outputs": [
    {
     "name": "stdout",
     "output_type": "stream",
     "text": [
      "SNP2  No  Yes\n",
      "ONJ          \n",
      "No    22    1\n",
      "Yes   19    4\n"
     ]
    }
   ],
   "source": [
    "# Cross tabulation between ONJ and SNP1\n",
    "CrosstabResult = pd.crosstab(index=df_onj['ONJ'],columns=df_onj['SNP2'])\n",
    "print(CrosstabResult)"
   ]
  },
  {
   "cell_type": "code",
   "execution_count": 182,
   "id": "590920e1-c50d-406c-80f0-8009f0b3f606",
   "metadata": {},
   "outputs": [
    {
     "name": "stdout",
     "output_type": "stream",
     "text": [
      "The P-Value of the ChiSq Test is: 0.343\n"
     ]
    }
   ],
   "source": [
    "# Performing Chi-square test\n",
    "ChiSqResult = chi2_contingency(CrosstabResult)\n",
    "print('The P-Value of the ChiSq Test is:', round(ChiSqResult[1],3))"
   ]
  },
  {
   "cell_type": "code",
   "execution_count": null,
   "id": "fde99a95-8310-4a7e-89b6-c9b652654033",
   "metadata": {},
   "outputs": [],
   "source": [
    "# ONJ vs SNP1 OR SNP2"
   ]
  },
  {
   "cell_type": "code",
   "execution_count": 183,
   "id": "3cce8dc2-ee7b-4558-a362-a94d1c97363e",
   "metadata": {},
   "outputs": [
    {
     "name": "stdout",
     "output_type": "stream",
     "text": [
      "SNP_any  No  Yes\n",
      "ONJ             \n",
      "No       19    4\n",
      "Yes      10   13\n",
      "The P-Value of the ChiSq Test is: 0.015\n"
     ]
    }
   ],
   "source": [
    "import numpy as np\n",
    "\n",
    "df_onj[\"SNP_any\"] = np.where(\n",
    "    (df_onj[\"SNP1\"] == \"Yes\") | (df_onj[\"SNP2\"] == \"Yes\"),\n",
    "    \"Yes\", \"No\"\n",
    ")\n",
    "# Cross tabulation between ONJ and SNP1\n",
    "CrosstabResult = pd.crosstab(index=df_onj['ONJ'],columns=df_onj['SNP_any'])\n",
    "print(CrosstabResult)\n",
    "# Performing Chi-square test\n",
    "ChiSqResult = chi2_contingency(CrosstabResult)\n",
    "print('The P-Value of the ChiSq Test is:', round(ChiSqResult[1],3))"
   ]
  },
  {
   "cell_type": "code",
   "execution_count": 184,
   "id": "fd2efa05-3442-48b7-b3c1-e1e14ff09f00",
   "metadata": {},
   "outputs": [
    {
     "data": {
      "image/png": "[encoded data removed]",
      "text/plain": [
       "<Figure size 640x480 with 1 Axes>"
      ]
     },
     "metadata": {},
     "output_type": "display_data"
    }
   ],
   "source": [
    "CrosstabResult.plot.bar();"
   ]
  },
  {
   "cell_type": "code",
   "execution_count": 193,
   "id": "4561f419-8edc-4469-8d0c-91f2ed76b75c",
   "metadata": {},
   "outputs": [
    {
     "name": "stdout",
     "output_type": "stream",
     "text": [
      "t-test Age ONJ vs Control: 0.4860478283210089\n"
     ]
    }
   ],
   "source": [
    "from scipy.stats import ttest_ind\n",
    "# Age comparison (t-test)\n",
    "age_onj = df_onj.loc[df_onj['ONJ']=='Yes', 'age']\n",
    "age_ctrl = df_onj.loc[df_onj['ONJ']=='No', 'age']\n",
    "t_stat, p_val = ttest_ind(age_onj, age_ctrl)\n",
    "print(\"t-test Age ONJ vs Control:\", p_val)"
   ]
  }
 ],
 "metadata": {
  "kernelspec": {
   "display_name": "Python 3 (ipykernel)",
   "language": "python",
   "name": "python3"
  },
  "language_info": {
   "codemirror_mode": {
    "name": "ipython",
    "version": 3
   },
   "file_extension": ".py",
   "mimetype": "text/x-python",
   "name": "python",
   "nbconvert_exporter": "python",
   "pygments_lexer": "ipython3",
   "version": "3.12.3"
  }
 },
 "nbformat": 4,
 "nbformat_minor": 5
}
